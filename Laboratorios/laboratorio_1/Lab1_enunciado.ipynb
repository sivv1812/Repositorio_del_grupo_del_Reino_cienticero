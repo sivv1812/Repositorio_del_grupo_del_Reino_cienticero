{
  "cells": [
    {
      "cell_type": "markdown",
      "metadata": {
        "cell_id": "097fce6dce21405c911254a775ae3d26",
        "deepnote_cell_type": "markdown",
        "id": "J4_IcuuKZj9Y"
      },
      "source": [
        "<h1><center>Laboratorio 1: Git 👾</center></h1>\n",
        "\n",
        "<center><strong>MDS7202: Laboratorio de Programación Científica para Ciencia de Datos - Primavera 2025</strong></center>"
      ]
    },
    {
      "cell_type": "markdown",
      "metadata": {
        "cell_id": "9e8e8f2ae34e461da4f44508a96d2cf4",
        "deepnote_cell_type": "markdown",
        "id": "AEXIACc7aADv"
      },
      "source": [
        "### Cuerpo Docente:\n",
        "\n",
        "- Profesores: Diego Cortez, Gabriel Iturra\n",
        "- Auxiliares: Melanie Peña, Valentina Rojas\n",
        "- Ayudantes: Nicolás Cabello, Cristopher Urbina"
      ]
    },
    {
      "cell_type": "markdown",
      "metadata": {
        "cell_id": "3e5b48c23e1b48f6a64de41899166179",
        "deepnote_cell_type": "markdown",
        "id": "0HgMMyoCaG8X"
      },
      "source": [
        "### Equipo: **SUPER IMPORTANTE - notebooks sin nombre no serán revisados**\n",
        "\n",
        "- Nombre de alumno 1: Sebastián Vásquez\n",
        "- Nombre de alumno 2: Luis Ortega"
      ]
    },
    {
      "cell_type": "markdown",
      "metadata": {
        "cell_id": "1db7c82b68614d19b112ba3b0d0abe4d",
        "deepnote_cell_type": "markdown",
        "id": "fz77X6glaK6y"
      },
      "source": [
        "### **Link de repositorio de GitHub:** [Insertar Enlace](https://github.com/sivv1812/Repositorio_del_grupo_del_Reino_cienticero)"
      ]
    },
    {
      "cell_type": "markdown",
      "metadata": {
        "cell_id": "bc3dac65089d4ae6a43c079547dee179",
        "deepnote_cell_type": "markdown",
        "id": "rRwqaxIZaNx3"
      },
      "source": [
        "## Reglas:\n",
        "\n",
        "- **Grupos de 2 personas**\n",
        "- Fecha de entrega: Entregas Martes a las 23:59.\n",
        "- Instrucciones del lab el viernes a las 16:15 en formato online. Asistencia no es obligatoria, pero se recomienda **fuertemente** asistir.\n",
        "- <u>Prohibidas las copias</u>. Cualquier intento de copia será debidamente penalizado con el reglamento de la escuela.\n",
        "- Tienen que subir el laboratorio a u-cursos y a su repositorio de github. Labs que no estén en u-cursos no serán revisados. Recuerden que el repositorio también tiene nota.\n",
        "- Cualquier duda fuera del horario de clases al foro. Mensajes al equipo docente serán respondidos por este medio.\n",
        "- Pueden usar cualquier material del curso que estimen conveniente."
      ]
    },
    {
      "cell_type": "markdown",
      "metadata": {
        "cell_id": "05e4729411a24153837fd13b7f198bd9",
        "deepnote_cell_type": "markdown",
        "id": "bmToL27JaSrf"
      },
      "source": [
        "## Objetivos del lab:\n",
        "\n",
        "\n",
        "- Conocer los elementos básicos que conformar `Git`\n",
        "- Clonar repositorios\n",
        "- Identificar ramas de un repositorio\n",
        "- Reconocer y solucionar problemas entre ramas\n",
        "- Subir cambios a un repositorio"
      ]
    },
    {
      "cell_type": "markdown",
      "metadata": {
        "cell_id": "5ebae9d601bd4d508349ab55297e9f82",
        "deepnote_cell_type": "markdown",
        "id": "bvnPCvrVbJLK"
      },
      "source": [
        "## Parte 1: Conocimiento Teórico (2.5 pts)\n",
        "\n",
        "<p align=\"center\">\n",
        "  <img src=\"https://cdn.thedesigninspiration.com/wp-content/uploads/sites/3/2019/04/macintosh-hdusersbrittanyloefflerdownloadsanig-1.gif\" width=\"350\">\n",
        "</p>"
      ]
    },
    {
      "cell_type": "markdown",
      "metadata": {
        "cell_id": "627494dba4f84520b3ee8b9cbf58ee79",
        "deepnote_cell_type": "markdown",
        "id": "JHl-24XnbNLF"
      },
      "source": [
        "Responda las siguientes preguntas (0.2 pts c/u):\n",
        "\n",
        "1. ¿Qué es `Git` y cómo se relaciona con el control de versiones?\n",
        "\n",
        "2. Nombre y explique 3 diferencias entre `Git` y `Github`.\n",
        "\n",
        "3. ¿Qué es un `hash` y cómo se representa en un `commit`? De un ejemplo.\n",
        "\n",
        "4. ¿Que elementos componen a la estructura de datos de `Git`?\n",
        "\n",
        "5. ¿Que comandos de `Git` sirven para crear un repositorio y hacer seguimiento a cambios en los archivos?"
      ]
    },
    {
      "cell_type": "markdown",
      "metadata": {
        "cell_id": "6d06c40f429044a298b27c666f51f46f",
        "deepnote_cell_type": "markdown",
        "id": "2tXCSkf0caG8"
      },
      "source": [
        "<code>Escriba sus respuestas acá:</code>\n",
        "**Respuesta a la Pregunta 1:**\n",
        "\n",
        "Git es un sistema de control de versiones distribuido (DVCS) de código abierto y diseñado para manejar proyectos de cualquier tamaño con mucha velocidad y eficiencia.\n",
        "\n",
        "Su relación con el control de versiones es total, ya que Git es la herramienta que usamos para aplicarlo. El control de versiones es básicamente el proceso de registrar y administrar los cambios en los archivos de un proyecto. En la práctica funciona como un \"historial de guardado\" avanzado para el código, lo que nos permite:\n",
        "\n",
        "* Guardar \"fotografías\" (snapshots) del estado de un proyecto en un momento específico.\n",
        "\n",
        "* Regresar a una versión anterior si algo deja de funcionar por un cambio nuevo.\n",
        "\n",
        "* Revisar exactamente qué se modificó entre una versión y otra.\n",
        "\n",
        "* Facilitar que varias personas trabajen a la vez en el mismo proyecto y luego puedan unir sus cambios de forma ordenada.\n",
        "\n",
        "Lo más importante de Git es que es distribuido. Esto significa que cada persona del equipo tiene una copia local completa de todo el historial del proyecto. Gracias a esto se puede trabajar sin estar conectado a internet y la colaboración es más segura y flexible que en sistemas más antiguos que dependen de un servidor central.\n",
        "\n",
        "En pocas palabras el control de versiones es la metodología y Git es el software más usado para llevarla a cabo.\n",
        "\n",
        "**Respuesta a la Pregunta 2:**\n",
        "\n",
        "Aunque sus nombres se parecen y trabajan juntos Git y GitHub son cosas completamente diferentes. Las principales diferencias son:\n",
        "\n",
        "1. Software vs. Servicio: La distinción más importante es que Git es el software de control de versiones que instalo y uso en mi computador para gestionar el historial de mi proyecto. En cambio GitHub es un servicio en la nube, una plataforma web que aloja repositorios de Git. GitHub utiliza Git por debajo, pero es un sitio web que ofrece funcionalidades extra.\n",
        "\n",
        "2. Uso Local vs. Remoto: Git es una herramienta de línea de comandos (o con interfaz gráfica) que funciona de forma 100% local en mi PC. Puedo hacer commits, crear ramas y revisar el historial completo sin conexión a internet. GitHub es la plataforma remota donde \"subo\" mi repositorio local. Sirve para tener un respaldo en la nube y para colaborar con otras personas.\n",
        "\n",
        "3. Enfoque en Versiones vs. Colaboración: El objetivo principal de Git es puramente el control de versiones (commit, branch, merge, etc.). Su única función es administrar el historial del código. GitHub toma esa base y le agrega una capa de \"colaboración social\". Proporciona herramientas que Git no tiene, como Pull Requests para proponer y revisar cambios, un sistema de Issues para registrar tareas o bugs, y perfiles de usuario para crear una comunidad. GitHub está hecho para que trabajar en equipo con Git sea más fácil.\n",
        "\n",
        "**Respuesta a la Pregunta 3:**\n",
        "\n",
        "Un hash en el contexto de Git es básicamente una \"huella digital\" única e irrepetible para un conjunto de datos. Específicamente Git usa el algoritmo de hash SHA-1 para generar un código alfanumérico de 40 caracteres que representa de forma única el contenido y la información de un commit.\n",
        "\n",
        "Este hash se calcula a partir de todos los elementos que componen el commit:\n",
        "\n",
        "* Los cambios realizados en los archivos (el snapshot del código).\n",
        "\n",
        "* El mensaje del commit.\n",
        "\n",
        "* El autor y la fecha.\n",
        "\n",
        "* El hash del commit padre (el commit anterior en la historia).\n",
        "\n",
        "Si cualquiera de estos elementos fuera diferente (incluso si solo se cambia una coma en el código o una letra en el mensaje) el hash resultante sería completamente distinto. Esto garantiza la integridad del historial, ya que es imposible alterar un commit pasado sin que Git lo detecte.\n",
        "\n",
        "En la práctica el hash es el identificador (ID) de un commit. Es la forma que tiene Git de nombrar y diferenciar cada \"guardado\" en la historia del proyecto.\n",
        "\n",
        "Por ejemplo:\n",
        "\n",
        "Un hash completo se ve así: c8b1a62d7299552b0654f930d695b33109214111\n",
        "\n",
        "Cuando trabajamos con comandos como git log o git show, normalmente usamos una versión corta de los primeros 7 a 10 caracteres, que es suficiente para identificarlo de forma única: c8b1a62\n",
        "\n",
        "**Respuesta a la Pregunta 4:**\n",
        "\n",
        "Se compone principalmente de tres objetos:\n",
        "\n",
        "1. Blobs: Un blob (Binary Large Object) es la forma en que Git guarda el contenido de un archivo. Es simplemente el contenido en sí, sin el nombre del archivo, su ubicación ni ninguna otra información. Git identifica cada blob con un hash único basado en ese contenido.\n",
        "\n",
        "2. Trees (Árboles): Un objeto tree representa a un directorio o carpeta. Contiene una lista de punteros que apuntan a blobs (archivos) y a otros trees (subdirectorios). Es el tree el que guarda el nombre del archivo o carpeta y lo asocia con el hash de su contenido. Básicamente, organiza los blobs y otros árboles para recrear la estructura de un proyecto.\n",
        "\n",
        "3. Commits: El commit es el objeto que une todo para formar el historial. Representa una \"fotografía\" o snapshot del proyecto en un momento dado. Un commit siempre contiene:\n",
        "\n",
        "* El hash del tree principal que representa el estado completo del proyecto en ese instante.\n",
        "\n",
        "* El hash del commit anterior (o commits, en caso de un merge) lo que crea la cadena de historial.\n",
        "\n",
        "* Información del autor, la fecha y el mensaje que describe los cambios.\n",
        "\n",
        "Juntos estos objetos crean el historial del proyecto. Los commits se enlazan unos con otros hacia atrás en el tiempo y cada uno apunta a la estructura de carpetas y archivos exacta de ese momento.\n",
        "\n",
        "**Respuesta a la Pregunta 5:**\n",
        "Para crear un repositorio y hacer seguimiento a los cambios en los archivos, se utiliza un flujo de trabajo que involucra los siguientes comandos esenciales:\n",
        "\n",
        "> Para crear un repositorio:\n",
        "\n",
        "* git init: Comando que inicializa un repositorio de Git nuevo y vacío en el directorio actual. Su ejecución crea una carpeta oculta llamada .git, la cual contendrá toda la configuración y el historial del proyecto.\n",
        "\n",
        "\n",
        "\n",
        "> Para hacer seguimiento a los cambios:\n",
        "\n",
        "El seguimiento se realiza en dos pasos, apoyado por un tercer comando para verificar el estado del repositorio.\n",
        "\n",
        "* git add <nombre_del_archivo>: Una vez que un archivo ha sido creado o modificado este comando lo agrega al \"Staging Area\" (área de preparación). Esta es un área intermedia donde se seleccionan los cambios específicos que se incluirán en el próximo commit. Para agregar todos los archivos modificados simultáneamente, se puede usar git add ..\n",
        "\n",
        "* git commit -m \"Mensaje que describe los cambios\": Este comando toma todos los cambios preparados en el Staging Area y los guarda de forma permanente en el historial del repositorio creando un nuevo commit. La opción -m es obligatoria para incluir un mensaje que describa los cambios realizados, lo cual es importante para la mantenibilidad y comprensión del historial.\n",
        "\n",
        "* git status (Comando de apoyo): Este comando no modifica el repositorio, sino que muestra su estado actual. Informa sobre qué archivos han sido modificados, cuáles se encuentran en el Staging Area y cuáles no están siendo rastreados por Git. Es un comando de consulta para entender la situación del trabajo actual."
      ]
    },
    {
      "cell_type": "markdown",
      "metadata": {
        "cell_id": "ec9855406e324cc98b59e33500faea84",
        "deepnote_cell_type": "markdown",
        "id": "MACccbP4gU43"
      },
      "source": [
        "Responda si las siguientes afirmaciones son Verdaderas (V) o Falsas (F). Justifique en **cualquiera** de los casos (0.2 pts c/u):\n",
        "\n",
        "\n",
        "6. `Git` siempre resuelve automáticamente los problemas de lineas al hacer merge entre diferentes ramas.\n",
        "7. Ejecutar `git pull` sobre un repositorio es equivalente a ejecutar `git clone`.\n",
        "8. `git status` genera los mismos resultados que `git log`.\n",
        "9. En `Git` es posible deshacer cambios y volver a versiones anteriores del código.\n",
        "10. El comando `git commit` se utiliza para enviar cambios al repositorio remoto."
      ]
    },
    {
      "cell_type": "markdown",
      "metadata": {
        "cell_id": "7e6a5a6e15b045cc9d104cf017825f1a",
        "deepnote_cell_type": "markdown",
        "id": "DFnmCToOgeM3"
      },
      "source": [
        "<code>Escriba sus respuestas acá:</code>\n",
        "\n",
        "**6. Git siempre resuelve automáticamente los problemas de lineas al hacer merge entre diferentes ramas.**\n",
        "\n",
        "Falso.\n",
        "\n",
        "Justificación: Aunque Git es muy potente y puede fusionar automáticamente los cambios cuando se realizan en diferentes archivos o en líneas distintas de un mismo archivo no puede resolver todas las situaciones.\n",
        "\n",
        "Cuando dos ramas diferentes modifican las mismas líneas de un archivo Git no tiene forma de saber cuál de las dos versiones es la correcta. En este escenario se produce un \"conflicto de merge\". Git detiene el proceso de fusión, marca el archivo como conflictivo e inserta marcadores especiales (<<<<<<<, =======, >>>>>>>) para que el desarrollador pueda ver ambas versiones del código. El usuario tiene que resolver manualmente este conflicto editando el archivo para elegir la versión deseada o combinar ambas, así que dado a que la intervención manual es necesaria en estos casos es incorrecto afirmar que Git siempre resuelve los problemas de forma automática.\n",
        "\n",
        "Falso.\n",
        "\n",
        "Justificación: Estos comandos no son equivalentes, se utilizan para propósitos completamente distintos y en diferentes etapas del flujo de trabajo. Git clone es para \"descargar e instalar\" el repositorio en tu máquina, mientras que git pull es para \"buscar actualizaciones\" en un repositorio que ya se tiene. Más a detalle:\n",
        "\n",
        "* git clone: Se usa una sola vez para crear una copia local completa de un repositorio remoto por primera vez. Este comando descarga todo el historial, crea un nuevo directorio para el proyecto y configura la conexión con el repositorio remoto (origin). Es el punto de partida.\n",
        "\n",
        "* git pull: Se usa de forma recurrente para actualizar un repositorio local que ya existe. Su función es traer (fetch) los cambios más recientes desde el repositorio remoto y fusionarlos (merge) con la rama en la que se está trabajando. Es un comando de sincronización para mantenerse al día.\n",
        "\n",
        "**8. git status genera los mismos resultados que git log.**\n",
        "\n",
        "Falso\n",
        "\n",
        "Justificación: Estos comandos tienen propósitos diferentes y muestran información que no se superpone. Git status es para ver los cambios \"en progreso\", mientras que git log es para ver el historial de cambios ya finalizados:\n",
        "\n",
        "* git status opera en el presente. Muestra el estado actual del directorio de trabajo y del Staging Area. Su función es informar sobre cambios que aún no han sido guardados permanentemente: archivos modificados, archivos preparados para el próximo commit (staged), y archivos que Git no está rastreando.\n",
        "\n",
        "* git log opera en el pasado. Muestra el historial de commits del proyecto. Su función es presentar la lista de todos los cambios que ya han sido guardados de forma permanente, mostrando para cada commit su hash, autor, fecha y mensaje.\n",
        "\n",
        "**9. En Git es posible deshacer cambios y volver a versiones anteriores del código.**\n",
        "\n",
        "Verdadero.\n",
        "\n",
        "Justificación: Es una de las funcionalidades más importantes de un sistema de control de versiones como Git. Permite a los desarrolladores gestionar el historial del proyecto, lo que incluye anular errores o descartar funcionalidades sin perder el trabajo previo. Git ofrece varios comandos para lograr esto, principalmente:\n",
        "\n",
        "* git revert: Este comando crea un nuevo commit que contiene los cambios inversos a un commit anterior. No borra el historial, sino que añade un nuevo paso que anula el anterior. Es el método más seguro para deshacer cambios en ramas colaborativas.\n",
        "\n",
        "* git reset: Este comando mueve el puntero de la rama actual hacia un commit anterior, efectivamente \"borrando\" los commits posteriores de la línea de historia de la rama. Es más directo pero reescribe el historial, por lo que se debe usar con precaución.\n",
        "\n",
        "**10. El comando git commit se utiliza para enviar cambios al repositorio remoto.**\n",
        "\n",
        "Falso.\n",
        "\n",
        "Justificación: El comando git commit no envía cambios al repositorio remoto, su función es guardar los cambios de forma permanente exclusivamente en el repositorio local. Este comando toma los archivos que están en el Staging Area y crea un nuevo snapshot en el historial del proyecto en la máquina del usuario.\n",
        "\n",
        "El comando que realmente se utiliza para enviar los commits locales al repositorio remoto es git push. Esta es la operación que se encarga de subir los cambios a un servidor compartido (como GitHub) para que otros miembros del equipo puedan acceder a ellos. git commit es para guardar y git push es para compartir."
      ]
    },
    {
      "cell_type": "markdown",
      "metadata": {
        "cell_id": "54317cad024744ebaf4938df55ba3b95",
        "deepnote_cell_type": "markdown",
        "id": "LYq55sI2Rjf0"
      },
      "source": [
        "Por último, investigue y comente con sus palabras para qué sirven los siguientes comandos:\n",
        "\n",
        "11. `git stash` (0.25 puntos)\n",
        "12. `git reset`. ¿Cuál es la diferencia de este comando con `git revert`?. (0.25 puntos)"
      ]
    },
    {
      "cell_type": "markdown",
      "metadata": {},
      "source": [
        "**11. git stash**\n",
        "\n",
        "El comando git stash sirve para guardar temporalmente los cambios del directorio de trabajo que aún no se han comiteado, permitiendo limpiar el espacio de trabajo de forma rápida y segura.\n",
        "\n",
        "Su caso de uso más común es cuando se está a mitad de una tarea y surge la necesidad de cambiar de rama para atender algo urgente (como un bug inesperado). Como el trabajo actual está incompleto no es ideal hacer un commit, pero los cambios impiden un cambio de rama limpio.\n",
        "\n",
        "Al ejecutar git stash, Git toma todas las modificaciones en los archivos rastreados (tanto las del Staging Area como las que no) y las guarda en una \"pila\" temporal. Esto revierte el directorio de trabajo al estado del último commit (HEAD) dejándolo \"limpio\". Una vez finalizada la tarea urgente se puede volver a la rama original y usar git stash pop para recuperar los cambios guardados y continuar el trabajo exactamente donde se dejó.\n",
        "\n",
        "**12. git reset y su diferencia con git revert**\n",
        "\n",
        "El comando git reset se utiliza para deshacer cambios moviendo el puntero de la rama actual (HEAD) a un commit anterior. Al hacerlo reescribe el historial de esa rama haciendo que los commits posteriores al punto de reseteo ya no formen parte de su línea de tiempo principal.\n",
        "\n",
        "La diferencia fundamental con git revert radica en cómo cada comando maneja el historial del proyecto:\n",
        "\n",
        "* git reset reescribe la historia. Al mover el puntero hacia atrás \"descarta\" los commits. Esta acción puede ser problemática si esos commits ya se han compartido en un repositorio remoto, ya que puede crear inconsistencias para otros colaboradores. Por ello se considera una operación \"destructiva\" para el historial público.\n",
        "\n",
        "* git revert preserva la historia. Para deshacer los cambios de un commit revert no borra nada, en su lugar crea un nuevo commit que aplica las modificaciones opuestas. De esta forma el historial original se mantiene intacto y se añade un nuevo registro que documenta explícitamente la anulación de los cambios. Este método es seguro para el historial compartido."
      ]
    },
    {
      "cell_type": "markdown",
      "metadata": {
        "cell_id": "3e4d8b9974e4426ca38fd20f4b835a55",
        "deepnote_cell_type": "markdown",
        "id": "i7Em9JkbbRLo"
      },
      "source": [
        "## Parte 2: Creando una presentación personal (1.5 pts)\n",
        "\n",
        "<p align=\"center\">\n",
        "  <img src=\"https://media.tenor.com/arqlNu8gyJYAAAAC/cat-cat-jumping.gif\" width=\"150\">\n",
        "</p>\n",
        "\n"
      ]
    },
    {
      "cell_type": "markdown",
      "metadata": {
        "cell_id": "988648005dba4b9782c6625dfe6ae4ef",
        "deepnote_cell_type": "markdown",
        "id": "XWIHfyrlbYOJ"
      },
      "source": [
        "Para empezar a \"*soltar las manos*\" con `Git`, se les encomienda crear un repositorio con una presentación personal. El repositorio debe contener un breve resumen de quienes son ustedes, sus gustos, experiencias, y cualquier otro detalle interesante que ustedes consideren relevante.\n",
        "\n",
        "Para realizar esto, deben seguir los siguientes pasos:\n",
        "\n",
        "1. Contar con una cuenta de github (1 por persona)\n",
        "2. Crear un repositorio con su nombre de usuario\n",
        "3. Vincular el repositorio a su ambiente local ¿Qué comando(s) me permiten hacer esto?\n",
        "4. Crear un archivo `readme.md` con la información que ustedes deseen compartir.\n",
        "5. Realizar `push` con los cambios generados\n",
        "\n",
        "\n",
        "**Nota: Deben trabajar todos estos puntos desde su ambiente local**\n",
        "\n",
        "*Hint: Una buena opción es usar templates de presentación personal que encuentren en Google, como los que ofrece este [sitio](https://durgeshsamariya.github.io/awesome-github-profile-readme-templates/#/)*.\n",
        "\n",
        "**Entregable:**\n",
        "\n",
        "Enlace al repositorio con la presentación personal.\n",
        "\n",
        "IMPORTANTE: DEBEN ADJUNTAR UN ENLACE POR PERSONA"
      ]
    },
    {
      "cell_type": "markdown",
      "metadata": {
        "cell_id": "081b38d55dc54282bc8e3cd300ce9d3e",
        "deepnote_cell_type": "markdown",
        "id": "IIkWyl9tf0Sg"
      },
      "source": [
        "<code>Link Presentacion 1:</code> https://github.com/sivv1812/sivv1812\n",
        "\n",
        "<code>Link Presentacion 2:</code> https://github.com/LuisOrtegaAstudillo"
      ]
    },
    {
      "cell_type": "markdown",
      "metadata": {
        "cell_id": "0481a05d2d1a46928f6cfb7762720980",
        "deepnote_cell_type": "markdown",
        "id": "CAzXOwvDY-IG"
      },
      "source": [
        "## Parte 3: Trabajando sobre un repositorio externo (2 pts)\n",
        "\n",
        "<p align=\"center\">\n",
        "  <img src=\"https://media.tenor.com/YXL-0SK15j4AAAAC/dance-animals.gif\" width=\"300\">\n",
        "</p>\n",
        "\n",
        "Tras muchos dolores de cabeza, un grupo de entusiastas académicos decidieron aprender sobre `Git` y así trabajar colaborativamente de forma más ordenada y eficiente. Después de una infinidad de intentos y aprender de sus errores \"*a la mala*\", los académicos lograron levantar un [repositorio](https://github.com/MDS7202/lab1) en `Github`. Usando el repositorio de los académicos, responda las siguientes preguntas (**incluya también los comandos en `Git` ocupados**):\n"
      ]
    },
    {
      "cell_type": "markdown",
      "metadata": {
        "cell_id": "bcef73b2e8604579bde90ed6622abfe9",
        "deepnote_cell_type": "markdown",
        "id": "BFRnAw0rfguR"
      },
      "source": [
        "1. Clone el repositorio a su ambiente local. (0.25 pts)"
      ]
    },
    {
      "cell_type": "markdown",
      "metadata": {
        "cell_id": "5d126ac3819c44479af94d3895bc4c97",
        "deepnote_cell_type": "markdown",
        "id": "KXro32yBeilN"
      },
      "source": [
        "<code>Escriba sus respuestas acá:</code> git clone https://github.com/MDS7202/lab1"
      ]
    },
    {
      "cell_type": "markdown",
      "metadata": {
        "cell_id": "e215e4e25b2440f09ac273ba63603986",
        "deepnote_cell_type": "markdown",
        "id": "8QB-GKmQRjf1"
      },
      "source": [
        "2. Descomprima los archivos subidos con la tarea en U-cursos en la carpeta recién clonada de github. Una vez realizado esto, cree un archivo `.gitignore` con el cual omita la carpeta `videos` y los archivos con la extensión `.txt` exceptuando el archivo `171.txt` de la carpeta `texts`. (0.25 pts)"
      ]
    },
    {
      "cell_type": "markdown",
      "metadata": {
        "cell_id": "186233b44d004e3bbd86262d010188b5",
        "deepnote_cell_type": "markdown",
        "id": "7VJ8IIYpRjf1"
      },
      "source": [
        "<code>Para esta pregunta usted deberá adjuntar el .gitignore creado en su repo.</code> se creo el archivo .gitignore ubicado en el siguiente link: https://github.com/sivv1812/Repositorio_del_grupo_del_Reino_cienticero/blob/main/Laboratorios/laboratorio_1/.gitignore.txt"
      ]
    },
    {
      "cell_type": "markdown",
      "metadata": {
        "cell_id": "1de150590a41484a988b8e46616a2324",
        "deepnote_cell_type": "markdown",
        "id": "q2qmiDyjt2M_"
      },
      "source": [
        "3. Inspeccione brevemente el repositorio: ¿Cual es el objetivo del proyecto? Explique brevemente la estructura del proyecto, asi como también cada elemento que lo conforma. (0.25 pts)"
      ]
    },
    {
      "cell_type": "markdown",
      "metadata": {
        "cell_id": "082ca01c865e48e28352b280400c47b6",
        "deepnote_cell_type": "markdown",
        "id": "aBHpR8VTftkT"
      },
      "source": [
        "<code>Escriba sus respuestas acá:</code> el objetivo del proyecto es crear un programa para emular sonidos de animales, la estructura del proyecto incluye un readme.md que indica el proposito del programa, un archivo animales.py que contiene la funcion en python que emula el programa, el archivo main.py que se ve que es la función con la cual se interacua con el usuario, la estructura del proyecto esta separada en dos archivos donde uno es donde se modifica para incorporar mas sonidos de animales y el segundo es donde se ejecuta el programa anterior."
      ]
    },
    {
      "cell_type": "markdown",
      "metadata": {
        "cell_id": "3aab4a3ee0c246e1be955680ad653fb8",
        "deepnote_cell_type": "markdown",
        "id": "XFwqcpLZfylf"
      },
      "source": [
        "4. Identifique los últimos cambios al repositorio, reconociendo las principales ramas de trabajo. ¿Son informativos los `commit` realizados? (0.25 pts)\n",
        "*Hint: Se recomienda usar los argumentos `all`, `graph` y `decorate`*"
      ]
    },
    {
      "cell_type": "markdown",
      "metadata": {
        "cell_id": "0fab79a360ac4c6a9ca0ab884f85c7e1",
        "deepnote_cell_type": "markdown",
        "id": "cmWfXBkOhog0"
      },
      "source": [
        "<code>Escriba sus respuestas acá:</code> el commit de mezosky es informativo debido a que informa lo que hace el commit pero el commit de seba no es informativo debido a que dice que se agrega función pero no especifica que función, el commit de Badilla no es informativo debido a que solamente dice fix ifs, para ver lo anterior se uso git log para ver los commits finales."
      ]
    },
    {
      "cell_type": "markdown",
      "metadata": {
        "cell_id": "d07b24d21f2343fb9a7e6a5db74e98c3",
        "deepnote_cell_type": "markdown",
        "id": "Vqbj9HdXrUnN"
      },
      "source": [
        "5. Uno de los académicos se da cuenta que la rama principal de trabajo no se ejecuta correctamente para todos los argumentos. Señale y explique el error en el código e identifique a la persona que lo cometió usando `git blame` (0.25 pts)\n",
        "\n",
        "*Hint: Le puede ser útil esta [documentación](https://www.atlassian.com/es/git/tutorials/inspecting-a-repository/git-blame).*"
      ]
    },
    {
      "cell_type": "markdown",
      "metadata": {
        "cell_id": "bc5b0f9c639643108f8e66687b721732",
        "deepnote_cell_type": "markdown",
        "id": "5ajhV2Iar3tV"
      },
      "source": [
        "<code>Escriba sus respuestas acá:</code> el error es la linea de codigo : if __name__ == '__main__': , esto es debido a querer incorporar un if sin que este en una función definida y ademas de que se evidencia que hay restricción de modificación de la variable sin pertenecer a ninguna clase y el responsable es seba. se uso git blame main.py para este proposito, tambien se uso git blame animales.py para ver el otro archivo."
      ]
    },
    {
      "cell_type": "markdown",
      "metadata": {
        "cell_id": "f3f4e78e6d9145ebbb120c0a2e4aade6",
        "deepnote_cell_type": "markdown",
        "id": "m8J3uE7MhqTA"
      },
      "source": [
        "6. Busque los siguientes `commit`:\n",
        "\n",
        "- `c8b1a62d7299552b0654f930d695b33109214111`\n",
        "- `362fe21ee44f53ee944cee4ba484600308f83d78`\n",
        "- `25543a3baf77292baf849726784ca005473acab1`\n",
        "\n",
        "¿Qué diferencias existen entre cada uno? (0.25 pts)"
      ]
    },
    {
      "cell_type": "markdown",
      "metadata": {
        "cell_id": "696ed361ac0c41c8a214cfad9dcb39e6",
        "deepnote_cell_type": "markdown",
        "id": "sNHnZsgIitGh"
      },
      "source": [
        "<code>Escriba sus respuestas acá:</code> en el commit `c8b1a62d7299552b0654f930d695b33109214111` dice se agrega funcion, en el commit `362fe21ee44f53ee944cee4ba484600308f83d78` se dice que Se separa el proyecto en modulos y en `25543a3baf77292baf849726784ca005473acab1` solamente dice fix-ifs, estos tres commit hacen referencias a lo que se realizo entre los colaboradores, uno haciendo el archivo de animales.py, otro haciendo el programa main.py para separar en modulos y el tercero haciendo el fix-ifs.\n"
      ]
    },
    {
      "cell_type": "markdown",
      "metadata": {
        "cell_id": "b4e18f8ce94c430f85915c4e2732d05b",
        "deepnote_cell_type": "markdown",
        "id": "WQIPbfNCgpxC"
      },
      "source": [
        "7. Realice una `merge` de la rama `fix-ifs` con la rama `main` y describa lo que ocurre. ¿Qué parte del código podría estar ocasionando esto? (0.25 pts)"
      ]
    },
    {
      "cell_type": "markdown",
      "metadata": {
        "cell_id": "36da6a0d4f4a427bbccac09e2ae965fd",
        "deepnote_cell_type": "markdown",
        "id": "ypH_6lL5ioZz"
      },
      "source": [
        "<code>Escriba sus respuestas acá:</code> aparece: Auto-merging main.py\n",
        "CONFLICT (content): Merge conflict in main.py\n",
        "Automatic merge failed; fix conflicts and then commit the result.\n",
        "\n",
        "esto se debe al haber el error en la linea de codigo: if __name__ == '__main__': , que hace que se genere este conflicto al haber esta diferencia entre las ramas.\n",
        "\n"
      ]
    },
    {
      "cell_type": "markdown",
      "metadata": {
        "cell_id": "09787ab449c543479e5cc54c2a3b6c19",
        "deepnote_cell_type": "markdown",
        "id": "GYfODCjeivkU"
      },
      "source": [
        "8. Cree una rama nueva y proponga una solución al problema anterior, adjuntando el código corregido y señalando las líneas modificadas. (0.25 pts)"
      ]
    },
    {
      "cell_type": "markdown",
      "metadata": {
        "cell_id": "6d963fba3f2d4c17a4b281c7d3f4fb8b",
        "deepnote_cell_type": "markdown",
        "id": "8heBxDU9iziT"
      },
      "source": [
        "<code>Escriba sus respuestas acá:</code> se creo una rama y se elimino la linea comentada anteriormente, tambien se uso git branch main_alternativo para crear la rama con el codigo corregido."
      ]
    },
    {
      "cell_type": "markdown",
      "metadata": {
        "cell_id": "8a47d4bf8b3045d68e4f29bb449c87f1",
        "deepnote_cell_type": "markdown",
        "id": "Av8ebB9jkALO"
      },
      "source": [
        "## Fin"
      ]
    },
    {
      "cell_type": "markdown",
      "metadata": {
        "cell_id": "cec4b53942ed489f8f8b63d0e9d4f3e5",
        "deepnote_cell_type": "markdown",
        "id": "aQqZT9fSkBK8"
      },
      "source": [
        "Eso ha sido todo por ahora!! Esperamos que este laboratorio les haya gustado y servido para trabajar con `Git`. Recuerden los dias de plazo que tienen disponibles y que ante cualquier duda no duden en contactar al equipo docente.\n",
        "\n",
        "Nos vemos!!\n",
        "\n",
        "<p align=\"center\">\n",
        "  <img src=\"https://media.tenor.com/OYLdav9k9LkAAAAd/kitty-cat.gif\" width=\"350\">\n",
        "</p>\n"
      ]
    }
  ],
  "metadata": {
    "colab": {
      "provenance": []
    },
    "deepnote_execution_queue": [],
    "deepnote_notebook_id": "62cd20d52b9a4810ada15644630456dc",
    "language_info": {
      "name": "python"
    }
  },
  "nbformat": 4,
  "nbformat_minor": 0
}
